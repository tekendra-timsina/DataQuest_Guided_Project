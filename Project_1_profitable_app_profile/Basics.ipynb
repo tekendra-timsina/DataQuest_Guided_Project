{
 "cells": [
  {
   "cell_type": "markdown",
   "metadata": {},
   "source": [
    "## Android and ios app analysis(Dataquest project 1)"
   ]
  },
  {
   "cell_type": "markdown",
   "metadata": {
    "collapsed": true
   },
   "source": [
    "In this project, we are going to analyse the performance of applications from android and ios devices. \n",
    "\n",
    "This anaysis will demonstrate the performance of the free applications and the profit it generates as we are analyzing only the free apps. Since, we are analysing only the free apps, the profit is determined by the in-app advertisement and thus we will also get the user flow. \n",
    "\n",
    "This analysis will help app developer decide the type of free app they should focus on building to make maximum profit."
   ]
  },
  {
   "cell_type": "markdown",
   "metadata": {},
   "source": [
    "First we will do the data cleaning. Following are the data cleaning task we will perform:\n",
    "- Removing inaccurate data\n",
    "- Removing duplicate app entries\n",
    "- Removing non-English apps\n",
    "- Isolating the free apps"
   ]
  },
  {
   "cell_type": "code",
   "execution_count": 1,
   "metadata": {
    "collapsed": false
   },
   "outputs": [],
   "source": [
    "def explore_data(dataset,start,end,rows_and_columns=False):\n",
    "    dataset_slice = dataset[start:end]\n",
    "    for row in dataset_slice:\n",
    "        print(row)\n",
    "        print('\\n')\n",
    "    if rows_and_columns:\n",
    "        print('Number of rows ',len(dataset))\n",
    "        print('Number of columns ',len(dataset[0]))"
   ]
  },
  {
   "cell_type": "code",
   "execution_count": 2,
   "metadata": {
    "collapsed": false
   },
   "outputs": [],
   "source": [
    "from csv import reader\n",
    "\n",
    "# Extracting the ios app data as a nested list\n",
    "file1 = 'AppleStore.csv'\n",
    "opened_file1 = open(file1)\n",
    "read_file1 = reader(opened_file1)\n",
    "ios_data = list(read_file1)\n",
    "\n",
    "# Extrating the android data as a nested list\n",
    "file2 = 'googleplaystore.csv'\n",
    "opened_file2 = open(file2)\n",
    "read_file2 = reader(opened_file2)\n",
    "android_data = list(read_file2)"
   ]
  },
  {
   "cell_type": "code",
   "execution_count": 3,
   "metadata": {
    "collapsed": false
   },
   "outputs": [],
   "source": [
    "\n",
    "# exploring the dataset\n",
    "# explore_ios = explore_data(ios_data,0,1,True)\n",
    "# explore_android = explore_data(android_data,10471,10473,True)"
   ]
  },
  {
   "cell_type": "markdown",
   "metadata": {},
   "source": [
    "The dataset is obtained from the following link:\n",
    "\n",
    "[Applestore app dataset](https://www.kaggle.com/ramamet4/app-store-apple-data-set-10k-apps)\n",
    "\n",
    "[googleplaystore app dataset](https://www.kaggle.com/lava18/google-play-store-apps/)"
   ]
  },
  {
   "cell_type": "markdown",
   "metadata": {},
   "source": [
    "As per the discussion, i tried to check the data error mentioned and found the error in 10473 instead of 10472 as i consider header as the first data row.\n"
   ]
  },
  {
   "cell_type": "code",
   "execution_count": 4,
   "metadata": {
    "collapsed": false
   },
   "outputs": [
    {
     "name": "stdout",
     "output_type": "stream",
     "text": [
      "['App', 'Category', 'Rating', 'Reviews', 'Size', 'Installs', 'Type', 'Price', 'Content Rating', 'Genres', 'Last Updated', 'Current Ver', 'Android Ver']\n",
      "\n",
      "\n",
      "Number of rows  10842\n",
      "Number of columns  13\n",
      "['Xposed Wi-Fi-Pwd', 'PERSONALIZATION', '3.5', '1042', '404k', '100,000+', 'Free', '0', 'Everyone', 'Personalization', 'August 5, 2014', '3.0.0', '4.0.3 and up']\n",
      "\n",
      "\n",
      "['Life Made WI-Fi Touchscreen Photo Frame', '1.9', '19', '3.0M', '1,000+', 'Free', '0', 'Everyone', '', 'February 11, 2018', '1.0.19', '4.0 and up']\n",
      "\n",
      "\n",
      "Number of rows  10842\n",
      "Number of columns  13\n"
     ]
    }
   ],
   "source": [
    "header = explore_data(android_data,0,1,True)\n",
    "row_with_error = explore_data(android_data,10472,10474,True)"
   ]
  },
  {
   "cell_type": "code",
   "execution_count": 5,
   "metadata": {
    "collapsed": false
   },
   "outputs": [
    {
     "name": "stdout",
     "output_type": "stream",
     "text": [
      "10842\n",
      "10841\n"
     ]
    }
   ],
   "source": [
    "# I am deleting the incomplete row 10473\n",
    "print(len(android_data))\n",
    "del android_data[10473]\n",
    "print(len(android_data))"
   ]
  },
  {
   "cell_type": "code",
   "execution_count": 6,
   "metadata": {
    "collapsed": false
   },
   "outputs": [
    {
     "name": "stdout",
     "output_type": "stream",
     "text": [
      "Number of duplicate apps: 1181\n",
      "Few apps that have duplicates ['Quick PDF Scanner + OCR FREE', 'Box', 'Google My Business', 'ZOOM Cloud Meetings', 'join.me - Simple Meetings']\n"
     ]
    }
   ],
   "source": [
    "unique_apps = []\n",
    "duplicate_apps = []\n",
    "for data in android_data:\n",
    "    if data[0] in unique_apps:\n",
    "        duplicate_apps.append(data[0])\n",
    "    else:\n",
    "        unique_apps.append(data[0])\n",
    "print('Number of duplicate apps:',len(duplicate_apps))\n",
    "print('Few apps that have duplicates',duplicate_apps[:5])"
   ]
  },
  {
   "cell_type": "markdown",
   "metadata": {},
   "source": [
    "From above, we noticed that we have lots of duplicate data for the same app. We need to remove the duplicate data. To remove the duplicate data, we are considering the \"review count\" as a filtering criterion. Since data is  more reliable and accurate if it has high number of reviewer, this criterion will be effecient one. "
   ]
  },
  {
   "cell_type": "markdown",
   "metadata": {},
   "source": [
    "Next, we are going to make a dictionary that stores the name of app as its key and the maximum reviews (if there exist duplicate) as its value."
   ]
  },
  {
   "cell_type": "code",
   "execution_count": 7,
   "metadata": {
    "collapsed": false
   },
   "outputs": [
    {
     "name": "stdout",
     "output_type": "stream",
     "text": [
      "9659\n"
     ]
    }
   ],
   "source": [
    "reviews_max = {}\n",
    "\n",
    "for data in android_data[1:]:\n",
    "    name = data[0]\n",
    "    n_reviews = float(data[3])\n",
    "    if name in reviews_max and reviews_max[name] < n_reviews:\n",
    "        reviews_max[name] = n_reviews\n",
    "        \n",
    "    if name not in reviews_max:\n",
    "        reviews_max[name] = n_reviews\n",
    "        \n",
    "print(len(reviews_max))"
   ]
  },
  {
   "cell_type": "markdown",
   "metadata": {},
   "source": [
    "As we have now formed the dictionary with unique name, we will now extract all the data using this dictionary. For this we will make two empty list, one for making nested list with clean android data after removing duplicates and the one to filter out the duplicate data. "
   ]
  },
  {
   "cell_type": "code",
   "execution_count": 8,
   "metadata": {
    "collapsed": false
   },
   "outputs": [
    {
     "name": "stdout",
     "output_type": "stream",
     "text": [
      "9659\n"
     ]
    }
   ],
   "source": [
    "clean_android_data = []\n",
    "already_added = []\n",
    "\n",
    "for data in android_data[1:]:\n",
    "    n_reviews = float(data[3])\n",
    "    if (reviews_max[data[0]] == n_reviews) and (data[0] not in already_added):\n",
    "        clean_android_data.append(data)\n",
    "        already_added.append(data[0])\n",
    "print(len(clean_android_data))"
   ]
  },
  {
   "cell_type": "markdown",
   "metadata": {},
   "source": [
    "In order to check if the app is in english (i.e. for english speaking customer) or not, we are going to create a function that tests tha app name based on ascii character. Since, emoji and some characters, such as trademark, can make you omit the app as they are out of ascii range. so, we put a condition that only apps with more than three non-ascii character will be omitted. "
   ]
  },
  {
   "cell_type": "code",
   "execution_count": 9,
   "metadata": {
    "collapsed": false
   },
   "outputs": [
    {
     "name": "stdout",
     "output_type": "stream",
     "text": [
      "True\n"
     ]
    }
   ],
   "source": [
    "def check_string(a_string):\n",
    "    ''' this function will check if the string contains english or non-english charactersa'''\n",
    "    count = 0\n",
    "    for letter in a_string:\n",
    "        if ord(letter)>127:\n",
    "            count += 1\n",
    "            if count>3:\n",
    "                return False\n",
    "        \n",
    "    return True\n",
    "print(check_string(\"Docs To Go™ Free Office Suite\"))"
   ]
  },
  {
   "cell_type": "code",
   "execution_count": 10,
   "metadata": {
    "collapsed": false
   },
   "outputs": [],
   "source": [
    "android_eng_data = []\n",
    "ios_eng_data = []\n",
    "for data in clean_android_data:\n",
    "    if check_string(data[0]):\n",
    "        android_eng_data.append(data)\n",
    "for data in ios_data[1:]:\n",
    "    if check_string(data[1]):\n",
    "        ios_eng_data.append(data)"
   ]
  },
  {
   "cell_type": "markdown",
   "metadata": {},
   "source": [
    "Let's check if there was any non-english app in both dataset. Andrpoid dataset has some non-english app whereas ios dataset contains only english app."
   ]
  },
  {
   "cell_type": "code",
   "execution_count": 11,
   "metadata": {
    "collapsed": false
   },
   "outputs": [
    {
     "name": "stdout",
     "output_type": "stream",
     "text": [
      "Inspection of english app for android data: \n",
      "\n",
      "['U Launcher Lite – FREE Live Cool Themes, Hide Apps', 'ART_AND_DESIGN', '4.7', '87510', '8.7M', '5,000,000+', 'Free', '0', 'Everyone', 'Art & Design', 'August 1, 2018', '1.2.4', '4.0.3 and up']\n",
      "\n",
      "\n",
      "Number of rows  9659\n",
      "Number of columns  13\n",
      "['U Launcher Lite – FREE Live Cool Themes, Hide Apps', 'ART_AND_DESIGN', '4.7', '87510', '8.7M', '5,000,000+', 'Free', '0', 'Everyone', 'Art & Design', 'August 1, 2018', '1.2.4', '4.0.3 and up']\n",
      "\n",
      "\n",
      "Number of rows  9614\n",
      "Number of columns  13\n"
     ]
    }
   ],
   "source": [
    "print(\"Inspection of english app for android data: \",end=\"\\n\")\n",
    "print(\"\")\n",
    "explore_data(clean_android_data,1,2,True)\n",
    "explore_data(android_eng_data,1,2,True)"
   ]
  },
  {
   "cell_type": "code",
   "execution_count": 12,
   "metadata": {
    "collapsed": false,
    "scrolled": true
   },
   "outputs": [
    {
     "name": "stdout",
     "output_type": "stream",
     "text": [
      "Inspection of english app for ios data: \n",
      "\n",
      "['389801252', 'Instagram', '113954816', 'USD', '0.0', '2161558', '1289', '4.5', '4.0', '10.23', '12+', 'Photo & Video', '37', '0', '29', '1']\n",
      "\n",
      "\n",
      "Number of rows  7197\n",
      "Number of columns  16\n",
      "['389801252', 'Instagram', '113954816', 'USD', '0.0', '2161558', '1289', '4.5', '4.0', '10.23', '12+', 'Photo & Video', '37', '0', '29', '1']\n",
      "\n",
      "\n",
      "Number of rows  6183\n",
      "Number of columns  16\n"
     ]
    }
   ],
   "source": [
    "print(\"Inspection of english app for ios data: \",end=\"\\n\")\n",
    "print(\"\")\n",
    "explore_data(ios_data[1:],1,2,True)\n",
    "explore_data(ios_eng_data,1,2,True)"
   ]
  },
  {
   "cell_type": "markdown",
   "metadata": {},
   "source": [
    "Now, we will only select the app that are available for free as we mentioned in the beginning that we are going to make a free app."
   ]
  },
  {
   "cell_type": "code",
   "execution_count": 13,
   "metadata": {
    "collapsed": false
   },
   "outputs": [],
   "source": [
    "free_android_app = []\n",
    "free_ios_app = []\n",
    "for data in android_eng_data:\n",
    "    price = data[7]\n",
    "    if price == '0':\n",
    "        free_android_app.append(data)  \n",
    "for data in ios_eng_data:\n",
    "    price = data[4]\n",
    "    if price == '0.0':\n",
    "        free_ios_app.append(data)"
   ]
  },
  {
   "cell_type": "code",
   "execution_count": 14,
   "metadata": {
    "collapsed": false
   },
   "outputs": [
    {
     "data": {
      "text/plain": [
       "3222"
      ]
     },
     "execution_count": 14,
     "metadata": {},
     "output_type": "execute_result"
    }
   ],
   "source": [
    "len(free_android_app)\n",
    "len(free_ios_app)"
   ]
  },
  {
   "cell_type": "code",
   "execution_count": 15,
   "metadata": {
    "collapsed": false
   },
   "outputs": [
    {
     "data": {
      "text/plain": [
       "[['App',\n",
       "  'Category',\n",
       "  'Rating',\n",
       "  'Reviews',\n",
       "  'Size',\n",
       "  'Installs',\n",
       "  'Type',\n",
       "  'Price',\n",
       "  'Content Rating',\n",
       "  'Genres',\n",
       "  'Last Updated',\n",
       "  'Current Ver',\n",
       "  'Android Ver'],\n",
       " ['Photo Editor & Candy Camera & Grid & ScrapBook',\n",
       "  'ART_AND_DESIGN',\n",
       "  '4.1',\n",
       "  '159',\n",
       "  '19M',\n",
       "  '10,000+',\n",
       "  'Free',\n",
       "  '0',\n",
       "  'Everyone',\n",
       "  'Art & Design',\n",
       "  'January 7, 2018',\n",
       "  '1.0.0',\n",
       "  '4.0.3 and up'],\n",
       " ['Coloring book moana',\n",
       "  'ART_AND_DESIGN',\n",
       "  '3.9',\n",
       "  '967',\n",
       "  '14M',\n",
       "  '500,000+',\n",
       "  'Free',\n",
       "  '0',\n",
       "  'Everyone',\n",
       "  'Art & Design;Pretend Play',\n",
       "  'January 15, 2018',\n",
       "  '2.0.0',\n",
       "  '4.0.3 and up'],\n",
       " ['U Launcher Lite – FREE Live Cool Themes, Hide Apps',\n",
       "  'ART_AND_DESIGN',\n",
       "  '4.7',\n",
       "  '87510',\n",
       "  '8.7M',\n",
       "  '5,000,000+',\n",
       "  'Free',\n",
       "  '0',\n",
       "  'Everyone',\n",
       "  'Art & Design',\n",
       "  'August 1, 2018',\n",
       "  '1.2.4',\n",
       "  '4.0.3 and up'],\n",
       " ['Sketch - Draw & Paint',\n",
       "  'ART_AND_DESIGN',\n",
       "  '4.5',\n",
       "  '215644',\n",
       "  '25M',\n",
       "  '50,000,000+',\n",
       "  'Free',\n",
       "  '0',\n",
       "  'Teen',\n",
       "  'Art & Design',\n",
       "  'June 8, 2018',\n",
       "  'Varies with device',\n",
       "  '4.2 and up'],\n",
       " ['Pixel Draw - Number Art Coloring Book',\n",
       "  'ART_AND_DESIGN',\n",
       "  '4.3',\n",
       "  '967',\n",
       "  '2.8M',\n",
       "  '100,000+',\n",
       "  'Free',\n",
       "  '0',\n",
       "  'Everyone',\n",
       "  'Art & Design;Creativity',\n",
       "  'June 20, 2018',\n",
       "  '1.1',\n",
       "  '4.4 and up'],\n",
       " ['Paper flowers instructions',\n",
       "  'ART_AND_DESIGN',\n",
       "  '4.4',\n",
       "  '167',\n",
       "  '5.6M',\n",
       "  '50,000+',\n",
       "  'Free',\n",
       "  '0',\n",
       "  'Everyone',\n",
       "  'Art & Design',\n",
       "  'March 26, 2017',\n",
       "  '1.0',\n",
       "  '2.3 and up'],\n",
       " ['Smoke Effect Photo Maker - Smoke Editor',\n",
       "  'ART_AND_DESIGN',\n",
       "  '3.8',\n",
       "  '178',\n",
       "  '19M',\n",
       "  '50,000+',\n",
       "  'Free',\n",
       "  '0',\n",
       "  'Everyone',\n",
       "  'Art & Design',\n",
       "  'April 26, 2018',\n",
       "  '1.1',\n",
       "  '4.0.3 and up'],\n",
       " ['Infinite Painter',\n",
       "  'ART_AND_DESIGN',\n",
       "  '4.1',\n",
       "  '36815',\n",
       "  '29M',\n",
       "  '1,000,000+',\n",
       "  'Free',\n",
       "  '0',\n",
       "  'Everyone',\n",
       "  'Art & Design',\n",
       "  'June 14, 2018',\n",
       "  '6.1.61.1',\n",
       "  '4.2 and up'],\n",
       " ['Garden Coloring Book',\n",
       "  'ART_AND_DESIGN',\n",
       "  '4.4',\n",
       "  '13791',\n",
       "  '33M',\n",
       "  '1,000,000+',\n",
       "  'Free',\n",
       "  '0',\n",
       "  'Everyone',\n",
       "  'Art & Design',\n",
       "  'September 20, 2017',\n",
       "  '2.9.2',\n",
       "  '3.0 and up'],\n",
       " ['Kids Paint Free - Drawing Fun',\n",
       "  'ART_AND_DESIGN',\n",
       "  '4.7',\n",
       "  '121',\n",
       "  '3.1M',\n",
       "  '10,000+',\n",
       "  'Free',\n",
       "  '0',\n",
       "  'Everyone',\n",
       "  'Art & Design;Creativity',\n",
       "  'July 3, 2018',\n",
       "  '2.8',\n",
       "  '4.0.3 and up'],\n",
       " ['Text on Photo - Fonteee',\n",
       "  'ART_AND_DESIGN',\n",
       "  '4.4',\n",
       "  '13880',\n",
       "  '28M',\n",
       "  '1,000,000+',\n",
       "  'Free',\n",
       "  '0',\n",
       "  'Everyone',\n",
       "  'Art & Design',\n",
       "  'October 27, 2017',\n",
       "  '1.0.4',\n",
       "  '4.1 and up'],\n",
       " ['Name Art Photo Editor - Focus n Filters',\n",
       "  'ART_AND_DESIGN',\n",
       "  '4.4',\n",
       "  '8788',\n",
       "  '12M',\n",
       "  '1,000,000+',\n",
       "  'Free',\n",
       "  '0',\n",
       "  'Everyone',\n",
       "  'Art & Design',\n",
       "  'July 31, 2018',\n",
       "  '1.0.15',\n",
       "  '4.0 and up'],\n",
       " ['Tattoo Name On My Photo Editor',\n",
       "  'ART_AND_DESIGN',\n",
       "  '4.2',\n",
       "  '44829',\n",
       "  '20M',\n",
       "  '10,000,000+',\n",
       "  'Free',\n",
       "  '0',\n",
       "  'Teen',\n",
       "  'Art & Design',\n",
       "  'April 2, 2018',\n",
       "  '3.8',\n",
       "  '4.1 and up'],\n",
       " ['Mandala Coloring Book',\n",
       "  'ART_AND_DESIGN',\n",
       "  '4.6',\n",
       "  '4326',\n",
       "  '21M',\n",
       "  '100,000+',\n",
       "  'Free',\n",
       "  '0',\n",
       "  'Everyone',\n",
       "  'Art & Design',\n",
       "  'June 26, 2018',\n",
       "  '1.0.4',\n",
       "  '4.4 and up'],\n",
       " ['3D Color Pixel by Number - Sandbox Art Coloring',\n",
       "  'ART_AND_DESIGN',\n",
       "  '4.4',\n",
       "  '1518',\n",
       "  '37M',\n",
       "  '100,000+',\n",
       "  'Free',\n",
       "  '0',\n",
       "  'Everyone',\n",
       "  'Art & Design',\n",
       "  'August 3, 2018',\n",
       "  '1.2.3',\n",
       "  '2.3 and up'],\n",
       " ['Learn To Draw Kawaii Characters',\n",
       "  'ART_AND_DESIGN',\n",
       "  '3.2',\n",
       "  '55',\n",
       "  '2.7M',\n",
       "  '5,000+',\n",
       "  'Free',\n",
       "  '0',\n",
       "  'Everyone',\n",
       "  'Art & Design',\n",
       "  'June 6, 2018',\n",
       "  'NaN',\n",
       "  '4.2 and up'],\n",
       " ['Photo Designer - Write your name with shapes',\n",
       "  'ART_AND_DESIGN',\n",
       "  '4.7',\n",
       "  '3632',\n",
       "  '5.5M',\n",
       "  '500,000+',\n",
       "  'Free',\n",
       "  '0',\n",
       "  'Everyone',\n",
       "  'Art & Design',\n",
       "  'July 31, 2018',\n",
       "  '3.1',\n",
       "  '4.1 and up'],\n",
       " ['350 Diy Room Decor Ideas',\n",
       "  'ART_AND_DESIGN',\n",
       "  '4.5',\n",
       "  '27',\n",
       "  '17M',\n",
       "  '10,000+',\n",
       "  'Free',\n",
       "  '0',\n",
       "  'Everyone',\n",
       "  'Art & Design',\n",
       "  'November 7, 2017',\n",
       "  '1.0',\n",
       "  '2.3 and up'],\n",
       " ['FlipaClip - Cartoon animation',\n",
       "  'ART_AND_DESIGN',\n",
       "  '4.3',\n",
       "  '194216',\n",
       "  '39M',\n",
       "  '5,000,000+',\n",
       "  'Free',\n",
       "  '0',\n",
       "  'Everyone',\n",
       "  'Art & Design',\n",
       "  'August 3, 2018',\n",
       "  '2.2.5',\n",
       "  '4.0.3 and up']]"
      ]
     },
     "execution_count": 15,
     "metadata": {},
     "output_type": "execute_result"
    }
   ],
   "source": [
    "android_data[:20]"
   ]
  },
  {
   "cell_type": "markdown",
   "metadata": {},
   "source": [
    "So far, we have done the data cleaning task. Now, we will analyse our clean data to see the most popular genre as we want to make the app that will be successful one. "
   ]
  },
  {
   "cell_type": "markdown",
   "metadata": {
    "collapsed": true
   },
   "source": [
    "We are intending to make an app suitable for both android and ios as our final goal is make an app that will be successful in both store. Game genre has been condsider one important sector that has become successful in both app store."
   ]
  },
  {
   "cell_type": "markdown",
   "metadata": {
    "collapsed": false
   },
   "source": [
    "Now, we will createa function to see the most popular genres (category) of apps in both ios and android."
   ]
  },
  {
   "cell_type": "code",
   "execution_count": 16,
   "metadata": {
    "collapsed": true
   },
   "outputs": [],
   "source": [
    "def display_table(dataset, index):\n",
    "    table = freq_table(dataset, index)\n",
    "    table_display = []\n",
    "    \n",
    "    for key in table:\n",
    "        key_val_as_tuple = tuple([table[key], key])\n",
    "        table_display.append(key_val_as_tuple)\n",
    "    table_sorted = sorted(table_display, reverse = True)\n",
    "    for entry in table_sorted:\n",
    "        print(entry[1], ':', entry[0])"
   ]
  },
  {
   "cell_type": "code",
   "execution_count": 17,
   "metadata": {
    "collapsed": false
   },
   "outputs": [],
   "source": [
    "def freq_table(dataset, index):\n",
    "    a_column = []\n",
    "    frequency_table = {}\n",
    "    for val in dataset:\n",
    "        data = val[index]\n",
    "        a_column.append(data)\n",
    "        \n",
    "    for data in a_column:\n",
    "        if data not in frequency_table:\n",
    "            frequency_table[data] = 1\n",
    "        else:\n",
    "            frequency_table[data] += 1\n",
    "    for key in frequency_table:\n",
    "        frequency_table[key] =  round((frequency_table[key]/len(dataset)*100),2)\n",
    "    return frequency_table\n",
    "    "
   ]
  },
  {
   "cell_type": "code",
   "execution_count": 18,
   "metadata": {
    "collapsed": false
   },
   "outputs": [
    {
     "name": "stdout",
     "output_type": "stream",
     "text": [
      "ios app frequency distribution based on Prime Genre: \n",
      "Games : 58.16\n",
      "Entertainment : 7.88\n",
      "Photo & Video : 4.97\n",
      "Education : 3.66\n",
      "Social Networking : 3.29\n",
      "Shopping : 2.61\n",
      "Utilities : 2.51\n",
      "Sports : 2.14\n",
      "Music : 2.05\n",
      "Health & Fitness : 2.02\n",
      "Productivity : 1.74\n",
      "Lifestyle : 1.58\n",
      "News : 1.33\n",
      "Travel : 1.24\n",
      "Finance : 1.12\n",
      "Weather : 0.87\n",
      "Food & Drink : 0.81\n",
      "Reference : 0.56\n",
      "Business : 0.53\n",
      "Book : 0.43\n",
      "Navigation : 0.19\n",
      "Medical : 0.19\n",
      "Catalogs : 0.12\n"
     ]
    }
   ],
   "source": [
    "print(\"ios app frequency distribution based on Prime Genre: \",end='\\n')\n",
    "display_table(free_ios_app,11)"
   ]
  },
  {
   "cell_type": "markdown",
   "metadata": {},
   "source": [
    "From the above data, we can conclude that games are most popular in ios followed by Entertainment. Also the data pattern reveals that we should focus on entertainment rather than in building apps for practical purposes."
   ]
  },
  {
   "cell_type": "code",
   "execution_count": 19,
   "metadata": {
    "collapsed": false,
    "scrolled": true
   },
   "outputs": [
    {
     "name": "stdout",
     "output_type": "stream",
     "text": [
      "Android app frequency distribution based on Category: \n",
      "FAMILY : 18.91\n",
      "GAME : 9.72\n",
      "TOOLS : 8.46\n",
      "BUSINESS : 4.59\n",
      "LIFESTYLE : 3.9\n",
      "PRODUCTIVITY : 3.89\n",
      "FINANCE : 3.7\n",
      "MEDICAL : 3.53\n",
      "SPORTS : 3.4\n",
      "PERSONALIZATION : 3.32\n",
      "COMMUNICATION : 3.24\n",
      "HEALTH_AND_FITNESS : 3.08\n",
      "PHOTOGRAPHY : 2.94\n",
      "NEWS_AND_MAGAZINES : 2.8\n",
      "SOCIAL : 2.66\n",
      "TRAVEL_AND_LOCAL : 2.34\n",
      "SHOPPING : 2.25\n",
      "BOOKS_AND_REFERENCE : 2.14\n",
      "DATING : 1.86\n",
      "VIDEO_PLAYERS : 1.79\n",
      "MAPS_AND_NAVIGATION : 1.4\n",
      "FOOD_AND_DRINK : 1.24\n",
      "EDUCATION : 1.16\n",
      "ENTERTAINMENT : 0.96\n",
      "LIBRARIES_AND_DEMO : 0.94\n",
      "AUTO_AND_VEHICLES : 0.93\n",
      "HOUSE_AND_HOME : 0.82\n",
      "WEATHER : 0.8\n",
      "EVENTS : 0.71\n",
      "PARENTING : 0.65\n",
      "ART_AND_DESIGN : 0.64\n",
      "COMICS : 0.62\n",
      "BEAUTY : 0.6\n"
     ]
    }
   ],
   "source": [
    "print(\"Android app frequency distribution based on Category: \",end='\\n')\n",
    "display_table(free_android_app,1)"
   ]
  },
  {
   "cell_type": "markdown",
   "metadata": {},
   "source": [
    "Contrary to the ios, Family genre is the most popular one in an googleplay store. "
   ]
  },
  {
   "cell_type": "code",
   "execution_count": 20,
   "metadata": {
    "collapsed": false
   },
   "outputs": [
    {
     "name": "stdout",
     "output_type": "stream",
     "text": [
      "Android app frequency distribution based on Genres: \n",
      "Tools : 8.45\n",
      "Entertainment : 6.07\n",
      "Education : 5.35\n",
      "Business : 4.59\n",
      "Productivity : 3.89\n",
      "Lifestyle : 3.89\n",
      "Finance : 3.7\n",
      "Medical : 3.53\n",
      "Sports : 3.46\n",
      "Personalization : 3.32\n",
      "Communication : 3.24\n",
      "Action : 3.1\n",
      "Health & Fitness : 3.08\n",
      "Photography : 2.94\n",
      "News & Magazines : 2.8\n",
      "Social : 2.66\n",
      "Travel & Local : 2.32\n",
      "Shopping : 2.25\n",
      "Books & Reference : 2.14\n",
      "Simulation : 2.04\n",
      "Dating : 1.86\n",
      "Arcade : 1.85\n",
      "Video Players & Editors : 1.77\n",
      "Casual : 1.76\n",
      "Maps & Navigation : 1.4\n",
      "Food & Drink : 1.24\n",
      "Puzzle : 1.13\n",
      "Racing : 0.99\n",
      "Role Playing : 0.94\n",
      "Libraries & Demo : 0.94\n",
      "Auto & Vehicles : 0.93\n",
      "Strategy : 0.91\n",
      "House & Home : 0.82\n",
      "Weather : 0.8\n",
      "Events : 0.71\n",
      "Adventure : 0.68\n",
      "Comics : 0.61\n",
      "Beauty : 0.6\n",
      "Art & Design : 0.6\n",
      "Parenting : 0.5\n",
      "Card : 0.45\n",
      "Casino : 0.43\n",
      "Trivia : 0.42\n",
      "Educational;Education : 0.39\n",
      "Board : 0.38\n",
      "Educational : 0.37\n",
      "Education;Education : 0.34\n",
      "Word : 0.26\n",
      "Casual;Pretend Play : 0.24\n",
      "Music : 0.2\n",
      "Racing;Action & Adventure : 0.17\n",
      "Puzzle;Brain Games : 0.17\n",
      "Entertainment;Music & Video : 0.17\n",
      "Casual;Brain Games : 0.14\n",
      "Casual;Action & Adventure : 0.14\n",
      "Arcade;Action & Adventure : 0.12\n",
      "Action;Action & Adventure : 0.1\n",
      "Educational;Pretend Play : 0.09\n",
      "Simulation;Action & Adventure : 0.08\n",
      "Parenting;Education : 0.08\n",
      "Entertainment;Brain Games : 0.08\n",
      "Board;Brain Games : 0.08\n",
      "Parenting;Music & Video : 0.07\n",
      "Educational;Brain Games : 0.07\n",
      "Casual;Creativity : 0.07\n",
      "Art & Design;Creativity : 0.07\n",
      "Education;Pretend Play : 0.06\n",
      "Role Playing;Pretend Play : 0.05\n",
      "Education;Creativity : 0.05\n",
      "Role Playing;Action & Adventure : 0.03\n",
      "Puzzle;Action & Adventure : 0.03\n",
      "Entertainment;Creativity : 0.03\n",
      "Entertainment;Action & Adventure : 0.03\n",
      "Educational;Creativity : 0.03\n",
      "Educational;Action & Adventure : 0.03\n",
      "Education;Music & Video : 0.03\n",
      "Education;Brain Games : 0.03\n",
      "Education;Action & Adventure : 0.03\n",
      "Adventure;Action & Adventure : 0.03\n",
      "Video Players & Editors;Music & Video : 0.02\n",
      "Sports;Action & Adventure : 0.02\n",
      "Simulation;Pretend Play : 0.02\n",
      "Puzzle;Creativity : 0.02\n",
      "Music;Music & Video : 0.02\n",
      "Entertainment;Pretend Play : 0.02\n",
      "Casual;Education : 0.02\n",
      "Board;Action & Adventure : 0.02\n",
      "Video Players & Editors;Creativity : 0.01\n",
      "Trivia;Education : 0.01\n",
      "Travel & Local;Action & Adventure : 0.01\n",
      "Tools;Education : 0.01\n",
      "Strategy;Education : 0.01\n",
      "Strategy;Creativity : 0.01\n",
      "Strategy;Action & Adventure : 0.01\n",
      "Simulation;Education : 0.01\n",
      "Role Playing;Brain Games : 0.01\n",
      "Racing;Pretend Play : 0.01\n",
      "Puzzle;Education : 0.01\n",
      "Parenting;Brain Games : 0.01\n",
      "Music & Audio;Music & Video : 0.01\n",
      "Lifestyle;Pretend Play : 0.01\n",
      "Lifestyle;Education : 0.01\n",
      "Health & Fitness;Education : 0.01\n",
      "Health & Fitness;Action & Adventure : 0.01\n",
      "Entertainment;Education : 0.01\n",
      "Communication;Creativity : 0.01\n",
      "Comics;Creativity : 0.01\n",
      "Casual;Music & Video : 0.01\n",
      "Card;Action & Adventure : 0.01\n",
      "Books & Reference;Education : 0.01\n",
      "Art & Design;Pretend Play : 0.01\n",
      "Art & Design;Action & Adventure : 0.01\n",
      "Arcade;Pretend Play : 0.01\n",
      "Adventure;Education : 0.01\n"
     ]
    }
   ],
   "source": [
    "print(\"Android app frequency distribution based on Genres: \",end='\\n')\n",
    "display_table(free_android_app,9)"
   ]
  },
  {
   "cell_type": "markdown",
   "metadata": {},
   "source": [
    "However,the data varies between category and the genre column. If we observe the data in genre column, we can see tools as the most popular genre. The genre columns seems to be subcategorized further compared to category, so we have to choose based on our requirement, whether we want to have a big piucture or precise genre. In our case, category is better as it reflects the bigger pattern."
   ]
  },
  {
   "cell_type": "markdown",
   "metadata": {},
   "source": [
    "If we compare genres between ios and android, we can see they vary a lot. Game genre is most popular in ios but it seems it is sub categorized in android to various genres;sports,actions,action and adventures etc. If we sum-up these genres together asnd consider it as game, it can be consider the most popular and hence can be recommended for both app store. However, on straight comparison with any analysis, Entertainment will be the safe bet. "
   ]
  },
  {
   "cell_type": "markdown",
   "metadata": {},
   "source": [
    "########\n",
    "\n",
    "Isolate the apps of each genre.\n",
    "Sum up the user ratings for the apps of that genre.\n",
    "Divide the sum by the number of apps belonging to that genre (not by the total number of apps)."
   ]
  },
  {
   "cell_type": "code",
   "execution_count": 21,
   "metadata": {
    "collapsed": false,
    "scrolled": true
   },
   "outputs": [
    {
     "name": "stdout",
     "output_type": "stream",
     "text": [
      "Games : 22788.6696905016\n",
      "Music : 57326.530303030304\n",
      "Social Networking : 71548.34905660378\n",
      "Productivity : 21028.410714285714\n",
      "Business : 7491.117647058823\n",
      "Medical : 612.0\n",
      "Education : 7003.983050847458\n",
      "Entertainment : 14029.830708661417\n",
      "Travel : 28243.8\n",
      "Utilities : 18684.456790123455\n",
      "Weather : 52279.892857142855\n",
      "Navigation : 86090.33333333333\n",
      "Reference : 74942.11111111111\n",
      "Lifestyle : 16485.764705882353\n",
      "Photo & Video : 28441.54375\n",
      "News : 21248.023255813954\n",
      "Catalogs : 4004.0\n",
      "Book : 39758.5\n",
      "Health & Fitness : 23298.015384615384\n",
      "Finance : 31467.944444444445\n",
      "Food & Drink : 33333.92307692308\n",
      "Shopping : 26919.690476190477\n",
      "Sports : 23008.898550724636\n"
     ]
    }
   ],
   "source": [
    "ios_genre = freq_table(free_ios_app,11)\n",
    "\n",
    " \n",
    "for genre in ios_genre:\n",
    "    total = 0\n",
    "    len_genre = 0\n",
    "    for app in free_ios_app:\n",
    "        genre_app = app[11]\n",
    "        if genre_app == genre:\n",
    "            ratings = float(app[5])\n",
    "            total += ratings\n",
    "            len_genre += 1\n",
    "    average_ratings = total/len_genre\n",
    "    print(genre,':', average_ratings)"
   ]
  },
  {
   "cell_type": "code",
   "execution_count": 35,
   "metadata": {
    "collapsed": false,
    "scrolled": true
   },
   "outputs": [
    {
     "name": "stdout",
     "output_type": "stream",
     "text": [
      "BEAUTY : 513151.88679245283\n",
      "ENTERTAINMENT : 11640705.88235294\n",
      "PERSONALIZATION : 5201482.6122448975\n",
      "HEALTH_AND_FITNESS : 4188821.9853479853\n",
      "DATING : 854028.8303030303\n",
      "MEDICAL : 120550.61980830671\n",
      "LIBRARIES_AND_DEMO : 638503.734939759\n",
      "EVENTS : 253542.22222222222\n",
      "FINANCE : 1387692.475609756\n",
      "SOCIAL : 23253652.127118643\n",
      "ART_AND_DESIGN : 1986335.0877192982\n",
      "VIDEO_PLAYERS : 24727872.452830188\n",
      "TOOLS : 10801391.298666667\n",
      "PHOTOGRAPHY : 17840110.40229885\n",
      "SPORTS : 3638640.1428571427\n",
      "BOOKS_AND_REFERENCE : 8767811.894736841\n",
      "BUSINESS : 1712290.1474201474\n",
      "FAMILY : 3695641.8198090694\n",
      "TRAVEL_AND_LOCAL : 13984077.710144928\n",
      "COMICS : 817657.2727272727\n",
      "EDUCATION : 1833495.145631068\n",
      "SHOPPING : 7036877.311557789\n",
      "PRODUCTIVITY : 16787331.344927534\n",
      "WEATHER : 5074486.197183099\n",
      "MAPS_AND_NAVIGATION : 4056941.7741935486\n",
      "FOOD_AND_DRINK : 1924897.7363636363\n",
      "AUTO_AND_VEHICLES : 647317.8170731707\n",
      "GAME : 15588015.603248259\n",
      "LIFESTYLE : 1437816.2687861272\n",
      "NEWS_AND_MAGAZINES : 9549178.467741935\n",
      "COMMUNICATION : 38456119.167247385\n",
      "PARENTING : 542603.6206896552\n",
      "HOUSE_AND_HOME : 1331540.5616438356\n"
     ]
    }
   ],
   "source": [
    "android_category = freq_table(free_android_app,1)\n",
    "for category in android_category:\n",
    "    total = 0\n",
    "    len_category = 0\n",
    "    for app in free_android_app:\n",
    "        category_app = app[1]\n",
    "        if category_app == category:\n",
    "            installs = app[5]\n",
    "            # since there are + and , sign in this column, we need to remove them\n",
    "            installs = installs.strip('+')\n",
    "            installs = installs.replace(',','')\n",
    "            installs = float(installs)\n",
    "            total += installs\n",
    "            len_category += 1\n",
    "            \n",
    "    average_installs = total/len_category\n",
    "    print(category,':', average_installs)"
   ]
  },
  {
   "cell_type": "markdown",
   "metadata": {
    "collapsed": true
   },
   "source": [
    "### Conclusion letft to be made "
   ]
  },
  {
   "cell_type": "code",
   "execution_count": null,
   "metadata": {
    "collapsed": true
   },
   "outputs": [],
   "source": []
  }
 ],
 "metadata": {
  "kernelspec": {
   "display_name": "Python 3",
   "language": "python",
   "name": "python3"
  },
  "language_info": {
   "codemirror_mode": {
    "name": "ipython",
    "version": 3
   },
   "file_extension": ".py",
   "mimetype": "text/x-python",
   "name": "python",
   "nbconvert_exporter": "python",
   "pygments_lexer": "ipython3",
   "version": "3.4.3"
  }
 },
 "nbformat": 4,
 "nbformat_minor": 2
}
